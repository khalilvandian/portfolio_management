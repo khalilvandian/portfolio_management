{
  "cells": [
    {
      "cell_type": "code",
      "execution_count": null,
      "metadata": {
        "colab": {
          "base_uri": "https://localhost:8080/"
        },
        "id": "2BV52yFwwjGU",
        "outputId": "5d79bb8e-431f-4a7c-881a-c3011d19f3b5"
      },
      "outputs": [
        {
          "name": "stdout",
          "output_type": "stream",
          "text": [
            "Collecting backtrader\n",
            "  Downloading backtrader-1.9.78.123-py2.py3-none-any.whl.metadata (6.8 kB)\n",
            "Downloading backtrader-1.9.78.123-py2.py3-none-any.whl (419 kB)\n",
            "\u001b[2K   \u001b[90m━━━━━━━━━━━━━━━━━━━━━━━━━━━━━━━━━━━━━━━━\u001b[0m \u001b[32m419.5/419.5 kB\u001b[0m \u001b[31m5.5 MB/s\u001b[0m eta \u001b[36m0:00:00\u001b[0m\n",
            "\u001b[?25hInstalling collected packages: backtrader\n",
            "Successfully installed backtrader-1.9.78.123\n"
          ]
        }
      ],
      "source": [
        "%%capture\n",
        "!pip install backtrader"
      ]
    },
    {
      "cell_type": "code",
      "execution_count": null,
      "metadata": {
        "id": "KtGnFyJk_Dxe"
      },
      "outputs": [],
      "source": [
        "import kagglehub\n",
        "from kagglehub import KaggleDatasetAdapter\n",
        "import sys\n",
        "import os\n",
        "import pandas as pd"
      ]
    },
    {
      "cell_type": "code",
      "execution_count": 2,
      "metadata": {
        "id": "aQKBNEDx7DFG"
      },
      "outputs": [],
      "source": [
        "# Config of the notebook\n",
        "random_seed = 585"
      ]
    },
    {
      "cell_type": "code",
      "execution_count": 3,
      "metadata": {
        "colab": {
          "base_uri": "https://localhost:8080/"
        },
        "id": "DnNIiDV9_OfY",
        "outputId": "e62bdfa8-3c80-4be2-f134-c0742fb8c0eb"
      },
      "outputs": [
        {
          "name": "stdout",
          "output_type": "stream",
          "text": [
            "Downloading from https://www.kaggle.com/api/v1/datasets/download/camnugent/sandp500?dataset_version_number=4&file_name=all_stocks_5yr.csv...\n"
          ]
        },
        {
          "name": "stderr",
          "output_type": "stream",
          "text": [
            "100%|██████████| 9.60M/9.60M [00:01<00:00, 8.69MB/s]"
          ]
        },
        {
          "name": "stdout",
          "output_type": "stream",
          "text": [
            "Extracting zip of all_stocks_5yr.csv...\n"
          ]
        },
        {
          "name": "stderr",
          "output_type": "stream",
          "text": [
            "\n"
          ]
        },
        {
          "name": "stdout",
          "output_type": "stream",
          "text": [
            "Downloading from https://www.kaggle.com/api/v1/datasets/download/paytonfisher/sp-500-companies-with-financial-information?dataset_version_number=1&file_name=financials.csv...\n"
          ]
        },
        {
          "name": "stderr",
          "output_type": "stream",
          "text": [
            "100%|██████████| 91.2k/91.2k [00:00<00:00, 344kB/s]\n"
          ]
        }
      ],
      "source": [
        "# Download latest version\n",
        "stock_data = kagglehub.dataset_load(\n",
        "    KaggleDatasetAdapter.PANDAS,\n",
        "    \"camnugent/sandp500\",\n",
        "    \"all_stocks_5yr.csv\",\n",
        ")\n",
        "\n",
        "# download company info\n",
        "comp_info = kagglehub.dataset_load(\n",
        "    KaggleDatasetAdapter.PANDAS,\n",
        "    \"paytonfisher/sp-500-companies-with-financial-information\",\n",
        "    \"financials.csv\",\n",
        ")\n"
      ]
    },
    {
      "cell_type": "markdown",
      "metadata": {
        "id": "CmRuBAix-sa9"
      },
      "source": [
        "### Selected Companies"
      ]
    },
    {
      "cell_type": "code",
      "execution_count": 4,
      "metadata": {
        "id": "XhPRDIJInLPT"
      },
      "outputs": [],
      "source": [
        "# Calculate the value counts for the 'Sector' column\n",
        "sector_counts = comp_info['Sector'].value_counts()"
      ]
    },
    {
      "cell_type": "code",
      "execution_count": 5,
      "metadata": {
        "id": "OjaMg4es3vjl"
      },
      "outputs": [],
      "source": [
        "# sample 5 top sectors and select 5 random stocks\n",
        "selected_sectors = list(sector_counts.index[:3])\n",
        "\n",
        "selected_sector_comp = comp_info[comp_info.apply(lambda row: row[\"Sector\"] in selected_sectors, axis=1)]\n",
        "\n",
        "# selected_companies\n",
        "selected_companies = selected_sector_comp.groupby(by=\"Sector\").sample(5, random_state=random_seed)"
      ]
    },
    {
      "cell_type": "code",
      "execution_count": 38,
      "metadata": {
        "id": "LTMcEReGCisP"
      },
      "outputs": [],
      "source": [
        "selected_tickers = list(selected_companies[\"Symbol\"])\n",
        "sampled_stock_data = stock_data[stock_data.apply(lambda row: row[\"Name\"] in selected_tickers, axis=1)]\n",
        "\n",
        "# rename Name to Ticker\n",
        "sampled_stock_data = sampled_stock_data.rename(columns={\"Name\": \"Ticker\"})"
      ]
    }
  ],
  "metadata": {
    "colab": {
      "authorship_tag": "ABX9TyOZlHYhDgajMYLR4o7207St",
      "provenance": []
    },
    "kernelspec": {
      "display_name": "Python 3",
      "name": "python3"
    },
    "language_info": {
      "name": "python"
    }
  },
  "nbformat": 4,
  "nbformat_minor": 0
}
