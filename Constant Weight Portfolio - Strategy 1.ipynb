{
 "cells": [
  {
   "cell_type": "code",
   "execution_count": 1,
   "id": "c9fae08d",
   "metadata": {},
   "outputs": [
    {
     "name": "stderr",
     "output_type": "stream",
     "text": [
      "b:\\Projects\\portfolio_management\\.venv\\Lib\\site-packages\\tqdm\\auto.py:21: TqdmWarning: IProgress not found. Please update jupyter and ipywidgets. See https://ipywidgets.readthedocs.io/en/stable/user_install.html\n",
      "  from .autonotebook import tqdm as notebook_tqdm\n"
     ]
    }
   ],
   "source": [
    "import kagglehub\n",
    "from kagglehub import KaggleDatasetAdapter\n",
    "import sys\n",
    "import os\n",
    "import pandas as pd"
   ]
  },
  {
   "cell_type": "code",
   "execution_count": 2,
   "id": "360512fb",
   "metadata": {},
   "outputs": [
    {
     "name": "stdout",
     "output_type": "stream",
     "text": [
      "Downloading from https://www.kaggle.com/api/v1/datasets/download/khalilvandian/portfolio-management?dataset_version_number=1...\n"
     ]
    },
    {
     "name": "stderr",
     "output_type": "stream",
     "text": [
      "100%|██████████| 651k/651k [00:00<00:00, 3.72MB/s]"
     ]
    },
    {
     "name": "stdout",
     "output_type": "stream",
     "text": [
      "Extracting files...\n",
      "Files in dataset directory: ['AVGO.csv', 'AXP.csv', 'BAC.csv', 'CB.csv', 'CMG.csv', 'EA.csv', 'EBAY.csv', 'GRMN.csv', 'IBM.csv', 'IT.csv', 'LEG.csv', 'MHK.csv', 'MS.csv', 'ORLY.csv', 'XL.csv']\n"
     ]
    },
    {
     "name": "stderr",
     "output_type": "stream",
     "text": [
      "\n"
     ]
    }
   ],
   "source": [
    "# Download latest version\n",
    "path = kagglehub.dataset_download(\"khalilvandian/portfolio-management\")\n",
    "\n",
    "# List all files and directories in the downloaded dataset path\n",
    "files = os.listdir(path)\n",
    "print(\"Files in dataset directory:\", files)"
   ]
  },
  {
   "cell_type": "code",
   "execution_count": 20,
   "id": "4d1fafef",
   "metadata": {},
   "outputs": [
    {
     "name": "stderr",
     "output_type": "stream",
     "text": [
      "C:\\Users\\BlackDEATH\\AppData\\Local\\Temp\\ipykernel_14640\\2928121268.py:4: FutureWarning: Series.__getitem__ treating keys as positions is deprecated. In a future version, integer keys will always be treated as labels (consistent with DataFrame behavior). To access a value by position, use `ser.iloc[pos]`\n",
      "  avgo[\"High\"][0]\n"
     ]
    },
    {
     "data": {
      "text/plain": [
       "'$14.349'"
      ]
     },
     "execution_count": 20,
     "metadata": {},
     "output_type": "execute_result"
    }
   ],
   "source": [
    "avgo = pd.read_csv(os.path.join(path, files[0]))\n",
    "avgo = avgo.set_index(pd.to_datetime(avgo[\"Date\"])).drop(columns=[\"Date\"])\n",
    "avgo.sort_index(inplace=True)\n",
    "avgo[\"High\"][0]"
   ]
  },
  {
   "cell_type": "code",
   "execution_count": null,
   "id": "079c79c9",
   "metadata": {},
   "outputs": [
    {
     "data": {
      "text/plain": [
       "'C:\\\\Users\\\\BlackDEATH\\\\.cache\\\\kagglehub\\\\datasets\\\\khalilvandian\\\\portfolio-management\\\\versions\\\\1'"
      ]
     },
     "execution_count": 4,
     "metadata": {},
     "output_type": "execute_result"
    }
   ],
   "source": [
    "# read all files into their respective data frames"
   ]
  },
  {
   "cell_type": "code",
   "execution_count": null,
   "id": "fbdaf47d",
   "metadata": {},
   "outputs": [],
   "source": [
    "import backtrader as bt\n",
    "%matplotlib inline\n",
    "\n",
    "class BuyAndHoldCustom(bt.Strategy):\n",
    "\n",
    "    # Add a parameters class to accept allocations\n",
    "    params = (('allocations', {}),)\n",
    "\n",
    "    def __init__(self):\n",
    "        self.bought = {}\n",
    "        # Access the allocations from the parameters\n",
    "        self.allocations = self.p.allocations\n",
    "\n",
    "    def next(self):\n",
    "        for data in self.datas:\n",
    "            name = data._name\n",
    "            if not self.getposition(data).size and name not in self.bought:\n",
    "                cash = self.broker.get_cash()\n",
    "                allocation = self.params.allocations[name]\n",
    "                size = int(allocation / data.close[0])\n",
    "                self.buy(data=data, size=size)\n",
    "                self.bought[name] = True\n",
    "\n",
    "    def stop(self):\n",
    "        # Called at the end of the backtest\n",
    "        for data in self.datas:\n",
    "            position = self.getposition(data)\n",
    "            if position.size > 0:\n",
    "                self.sell(data=data, size=position.size)\n",
    "                print(f\"SELL at END: {data._name} @ {data.close[0]:.2f}, Size: {position.size}\")\n",
    "\n",
    "def run_custom_backtest(dataframes_dict, allocations_dict, start_date, end_date):\n",
    "    cerebro = bt.Cerebro()\n",
    "    cerebro.broker.set_cash(sum(allocations_dict.values()))\n",
    "\n",
    "    filtered_dataframes = {}\n",
    "    for stock_name, df in dataframes_dict.items():\n",
    "        df = df.copy()\n",
    "        df['Date'] = pd.to_datetime(df['date'])\n",
    "        df.set_index('Date', inplace=True)\n",
    "        df = df.loc[start_date:end_date]\n",
    "        df.columns = df.columns.str.capitalize()  # Ensure 'Close' column exists\n",
    "        filtered_dataframes[stock_name] = df\n",
    "\n",
    "        feed = bt.feeds.PandasData(dataname=df)\n",
    "        cerebro.adddata(feed, name=stock_name)\n",
    "\n",
    "    # Pass allocations into strategy as parameter\n",
    "    cerebro.addstrategy(BuyAndHoldCustom, allocations=allocations_dict)\n",
    "\n",
    "    start_value = cerebro.broker.getvalue()\n",
    "    cerebro.run()\n",
    "    end_value = cerebro.broker.getvalue()\n",
    "\n",
    "    return {\n",
    "        'start_value': start_value,\n",
    "        'end_value': end_value,\n",
    "        'total_gain': end_value - start_value,\n",
    "        'percent_gain': (end_value - start_value) / start_value * 100,\n",
    "        'cerebro': cerebro\n",
    "    }\n"
   ]
  },
  {
   "cell_type": "code",
   "execution_count": null,
   "id": "1bcf0114",
   "metadata": {},
   "outputs": [
    {
     "name": "stdout",
     "output_type": "stream",
     "text": [
      "SELL at END: CMG @ 272.21, Size: 19\n",
      "SELL at END: MHK @ 267.66, Size: 26\n",
      "SELL at END: GRMN @ 63.08, Size: 134\n",
      "SELL at END: LEG @ 45.78, Size: 138\n",
      "SELL at END: ORLY @ 252.08, Size: 32\n",
      "SELL at END: BAC @ 31.25, Size: 268\n",
      "SELL at END: MS @ 54.55, Size: 141\n",
      "SELL at END: XL @ 42.00, Size: 150\n",
      "SELL at END: CB @ 147.52, Size: 44\n",
      "SELL at END: AXP @ 93.61, Size: 77\n",
      "SELL at END: IBM @ 153.85, Size: 46\n",
      "SELL at END: EBAY @ 42.33, Size: 186\n",
      "SELL at END: EA @ 123.05, Size: 57\n",
      "SELL at END: AVGO @ 237.38, Size: 26\n",
      "SELL at END: IT @ 119.45, Size: 52\n",
      "Initial Value: 100500.0\n",
      "Final Value: 106374.05999999998\n",
      "Total Gain: 5874.059999999983\n",
      "Percent Gain: 5.844835820895505 %\n"
     ]
    }
   ],
   "source": [
    "position_size_dict = {}\n",
    "for index, row in investment_strategy.iterrows():\n",
    "    position_size_dict[row['Symbol']] = row['Position_Size']\n",
    "\n",
    "# create company dicts\n",
    "dataframes_dict = {}\n",
    "for index, row in selected_companies.iterrows():\n",
    "  ticker = row[\"Symbol\"]\n",
    "\n",
    "  ticker_df = sampled_stock_data[sampled_stock_data[\"Ticker\"] == ticker]\n",
    "  dataframes_dict[ticker] = ticker_df\n",
    "\n",
    "\n",
    "\n",
    "result = run_custom_backtest(\n",
    "    dataframes_dict=dataframes_dict,\n",
    "    allocations_dict=position_size_dict,\n",
    "    start_date='2017-08-01',\n",
    "    end_date='2018-02-07'\n",
    ")\n",
    "\n",
    "print(\"Initial Value:\", result['start_value'])\n",
    "print(\"Final Value:\", result['end_value'])\n",
    "print(\"Total Gain:\", result['total_gain'])\n",
    "print(\"Percent Gain:\", result['percent_gain'], \"%\")\n"
   ]
  },
  {
   "cell_type": "code",
   "execution_count": null,
   "id": "c447041c",
   "metadata": {},
   "outputs": [],
   "source": [
    "import matplotlib\n",
    "matplotlib.use('Agg')  # Use a non-interactive backend for saving\n",
    "\n",
    "cerebro = result[\"cerebro\"]\n",
    "# Generate plot\n",
    "figs = cerebro.plot(style='candlestick')  # You can choose style: line, candlestick, ohlc\n",
    "\n",
    "# Set large size and save the first figure\n",
    "fig = figs[0][0]  # First subplot in first figure\n",
    "fig.set_size_inches(24, 50)  # Width, Height in inches\n",
    "fig.savefig(\"large_backtest_plot.png\", dpi=300)  # Save with high resolution"
   ]
  }
 ],
 "metadata": {
  "kernelspec": {
   "display_name": ".venv",
   "language": "python",
   "name": "python3"
  },
  "language_info": {
   "codemirror_mode": {
    "name": "ipython",
    "version": 3
   },
   "file_extension": ".py",
   "mimetype": "text/x-python",
   "name": "python",
   "nbconvert_exporter": "python",
   "pygments_lexer": "ipython3",
   "version": "3.12.10"
  }
 },
 "nbformat": 4,
 "nbformat_minor": 5
}
